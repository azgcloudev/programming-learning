{
 "cells": [
  {
   "cell_type": "code",
   "execution_count": 34,
   "id": "09086afa-20f9-47d0-94fe-54a25204e325",
   "metadata": {},
   "outputs": [
    {
     "name": "stdout",
     "output_type": "stream",
     "text": [
      "Overwriting myfile.txt\n"
     ]
    }
   ],
   "source": [
    "%%writefile myfile.txt\n",
    "Hello this is a text file\n",
    "this is the second line\n",
    "this is the third line"
   ]
  },
  {
   "cell_type": "code",
   "execution_count": 4,
   "id": "b29be0c0-5f51-40b9-9d86-f41fd9932877",
   "metadata": {},
   "outputs": [
    {
     "data": {
      "text/plain": [
       "'/home/aldair/Programming/programming-learning/learning-py/VideoCourse/IOBasicFiles'"
      ]
     },
     "execution_count": 4,
     "metadata": {},
     "output_type": "execute_result"
    }
   ],
   "source": [
    "pwd"
   ]
  },
  {
   "cell_type": "code",
   "execution_count": 5,
   "id": "11236b12-daec-4875-9425-5b554929c5c4",
   "metadata": {},
   "outputs": [],
   "source": [
    "myfile = open(\"myfile.txt\")"
   ]
  },
  {
   "cell_type": "code",
   "execution_count": 6,
   "id": "8d43ada2-ad0e-4dae-8d66-7df10533230f",
   "metadata": {},
   "outputs": [
    {
     "data": {
      "text/plain": [
       "<_io.TextIOWrapper name='myfile.txt' mode='r' encoding='UTF-8'>"
      ]
     },
     "execution_count": 6,
     "metadata": {},
     "output_type": "execute_result"
    }
   ],
   "source": [
    "myfile"
   ]
  },
  {
   "cell_type": "code",
   "execution_count": 10,
   "id": "4ce0e460-9a1f-4f45-ac4e-a2e72d848c55",
   "metadata": {},
   "outputs": [
    {
     "data": {
      "text/plain": [
       "''"
      ]
     },
     "execution_count": 10,
     "metadata": {},
     "output_type": "execute_result"
    }
   ],
   "source": [
    "myfile.read() # return all the text in a single string"
   ]
  },
  {
   "cell_type": "code",
   "execution_count": 11,
   "id": "0d3464f0-bf53-497e-b428-5bafd91134b2",
   "metadata": {},
   "outputs": [
    {
     "data": {
      "text/plain": [
       "0"
      ]
     },
     "execution_count": 11,
     "metadata": {},
     "output_type": "execute_result"
    }
   ],
   "source": [
    "myfile.seek(0) # sets the cursor back to the beginning of the file"
   ]
  },
  {
   "cell_type": "code",
   "execution_count": 12,
   "id": "bcd8a06f-c0c9-4ce2-844f-c84d9fdc96f3",
   "metadata": {},
   "outputs": [
    {
     "data": {
      "text/plain": [
       "'Hello this is a text file\\nthis is the second line\\nthis is the third line\\n'"
      ]
     },
     "execution_count": 12,
     "metadata": {},
     "output_type": "execute_result"
    }
   ],
   "source": [
    "myfile.read()"
   ]
  },
  {
   "cell_type": "code",
   "execution_count": 18,
   "id": "0c6a2c6a-1820-4f74-92c6-68f5b0306c9c",
   "metadata": {},
   "outputs": [
    {
     "data": {
      "text/plain": [
       "0"
      ]
     },
     "execution_count": 18,
     "metadata": {},
     "output_type": "execute_result"
    }
   ],
   "source": [
    "myfile.seek(0)"
   ]
  },
  {
   "cell_type": "code",
   "execution_count": 19,
   "id": "b7ec6de5-641b-4689-b637-bca5f800bb2f",
   "metadata": {},
   "outputs": [],
   "source": [
    "content = myfile.read()"
   ]
  },
  {
   "cell_type": "code",
   "execution_count": 20,
   "id": "dcee7ed2-aaea-468e-a3d5-2b9e1e1632b0",
   "metadata": {},
   "outputs": [],
   "source": [
    "# access to all lines separate\n",
    "myfile.seek(0)\n",
    "lines = myfile.readlines()"
   ]
  },
  {
   "cell_type": "code",
   "execution_count": 21,
   "id": "37aa8295-0f50-4ca7-a781-74993bb33fdb",
   "metadata": {},
   "outputs": [
    {
     "data": {
      "text/plain": [
       "['Hello this is a text file\\n',\n",
       " 'this is the second line\\n',\n",
       " 'this is the third line\\n']"
      ]
     },
     "execution_count": 21,
     "metadata": {},
     "output_type": "execute_result"
    }
   ],
   "source": [
    "lines"
   ]
  },
  {
   "cell_type": "code",
   "execution_count": 22,
   "id": "d8a3a422-e1f3-427e-8410-8850912baf40",
   "metadata": {},
   "outputs": [],
   "source": [
    "# close the file\n",
    "myfile.close()"
   ]
  },
  {
   "cell_type": "code",
   "execution_count": 78,
   "id": "b24f2db0-4a39-47fa-95e9-5eaa191dc58d",
   "metadata": {},
   "outputs": [],
   "source": [
    "# accessing a file using with\n",
    "with open(\"myfile.txt\") as new_file_text:\n",
    "    data = new_file_text.read()"
   ]
  },
  {
   "cell_type": "code",
   "execution_count": 79,
   "id": "c728db11-c21c-4db6-842a-f9880bfbed43",
   "metadata": {},
   "outputs": [
    {
     "data": {
      "text/plain": [
       "'Hello this is a text file\\nthis is the second line\\nthis is the third line\\n'"
      ]
     },
     "execution_count": 79,
     "metadata": {},
     "output_type": "execute_result"
    }
   ],
   "source": [
    "# still can access the 'data' variable and doesn't need to close the file\n",
    "data"
   ]
  },
  {
   "cell_type": "code",
   "execution_count": 25,
   "id": "18e627ca-bc60-465a-8f59-b241fcabec44",
   "metadata": {},
   "outputs": [],
   "source": [
    "# reading modes\n",
    "# r = read\n",
    "# w = write\n",
    "# a = append\n",
    "# r+ = reading and writing\n",
    "# w+ = writing and reading (overwrites existing file or creates a new file)"
   ]
  },
  {
   "cell_type": "code",
   "execution_count": 80,
   "id": "fdad06ee-6b54-43c1-9b97-50414586df61",
   "metadata": {},
   "outputs": [
    {
     "name": "stdout",
     "output_type": "stream",
     "text": [
      "Overwriting my_new_file.txt\n"
     ]
    }
   ],
   "source": [
    "%%writefile my_new_file.txt\n",
    "ONE ON FIRST\n",
    "TWO ON SECOND\n",
    "THREE ON THIRD"
   ]
  },
  {
   "cell_type": "code",
   "execution_count": 81,
   "id": "0eb43bd2-5a2c-463c-b177-51ae63d01ebb",
   "metadata": {},
   "outputs": [
    {
     "name": "stdout",
     "output_type": "stream",
     "text": [
      "ONE ON FIRST\n",
      "TWO ON SECOND\n",
      "THREE ON THIRD\n",
      "\n"
     ]
    }
   ],
   "source": [
    "with open(\"my_new_file.txt\", mode=\"r\") as f:\n",
    "    print(f.read())"
   ]
  },
  {
   "cell_type": "code",
   "execution_count": 82,
   "id": "6a18f6da-0cbe-4016-babf-0f621b5f9a86",
   "metadata": {},
   "outputs": [],
   "source": [
    "## add a new line to the file\n",
    "with open(\"my_new_file.txt\", mode=\"a\") as f:\n",
    "    f.write(\"FOUR ON FOURTH\") # adds at the end because using mode append"
   ]
  },
  {
   "cell_type": "code",
   "execution_count": 83,
   "id": "0edeab99-d24e-4bb0-b8f0-069d60640413",
   "metadata": {},
   "outputs": [
    {
     "name": "stdout",
     "output_type": "stream",
     "text": [
      "ONE ON FIRST\n",
      "TWO ON SECOND\n",
      "THREE ON THIRD\n",
      "FOUR ON FOURTH\n"
     ]
    }
   ],
   "source": [
    "with open(\"my_new_file.txt\") as f:\n",
    "    print(f.read())"
   ]
  },
  {
   "cell_type": "code",
   "execution_count": 84,
   "id": "941a2fbc-96d4-4045-8d7d-a77236df00df",
   "metadata": {},
   "outputs": [],
   "source": [
    "with open(\"sdfasdf.txt\", mode=\"w\") as f:\n",
    "    f.write(\"I CREATE THIS RANDOM FILE\")"
   ]
  },
  {
   "cell_type": "code",
   "execution_count": 85,
   "id": "92919d23-7700-49cc-954a-cb0a0e40b4b7",
   "metadata": {},
   "outputs": [
    {
     "name": "stdout",
     "output_type": "stream",
     "text": [
      "I CREATE THIS RANDOM FILE\n"
     ]
    }
   ],
   "source": [
    "with open(\"sdfasdf.txt\") as f:\n",
    "    print(f.read())"
   ]
  },
  {
   "cell_type": "code",
   "execution_count": null,
   "id": "e7316ba8-7795-43cd-a69e-e9ec1b653a3b",
   "metadata": {},
   "outputs": [],
   "source": []
  }
 ],
 "metadata": {
  "kernelspec": {
   "display_name": "Python 3 (ipykernel)",
   "language": "python",
   "name": "python3"
  },
  "language_info": {
   "codemirror_mode": {
    "name": "ipython",
    "version": 3
   },
   "file_extension": ".py",
   "mimetype": "text/x-python",
   "name": "python",
   "nbconvert_exporter": "python",
   "pygments_lexer": "ipython3",
   "version": "3.11.7"
  }
 },
 "nbformat": 4,
 "nbformat_minor": 5
}
